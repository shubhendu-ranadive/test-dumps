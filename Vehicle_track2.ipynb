{
 "cells": [
  {
   "cell_type": "code",
   "execution_count": null,
   "metadata": {},
   "outputs": [],
   "source": [
    "import numpy as np\n",
    "import imutils\n",
    "import time\n",
    "import cv2\n",
    "import os\n",
    "from imutils.video import FPS\n",
    "import dlib\n",
    "from shubhendu_demo_files.CentroidTracker import CentroidTracker"
   ]
  },
  {
   "cell_type": "code",
   "execution_count": null,
   "metadata": {},
   "outputs": [],
   "source": [
    "confThreshold = 0.5\n",
    "nmsThreshold = 0.3\n",
    "\n",
    "LABELS = open(\"coco.names\").read().strip().split(\"\\n\")\n",
    "\n",
    "np.random.seed(42)\n",
    "COLORS = np.random.randint(0, 255, size=(len(LABELS), 3), dtype=\"uint8\")\n",
    "\n",
    "weights = \"yolov3.weights\"\n",
    "configFile = \"yolov3.cfg\"\n",
    "\n",
    "print(\"[INFO] loading YOLO from disk...\")\n",
    "net = cv2.dnn.readNetFromDarknet(configFile, weights)\n",
    "ln = net.getLayerNames()\n",
    "ln = [ln[i[0]-1] for i in net.getUnconnectedOutLayers()]\n",
    "\n",
    "print(\"[INFO] Centroid Tracker initialized...\")\n",
    "ct = CentroidTracker()\n",
    "\n",
    "vs = cv2.VideoCapture(\"C:/Users/shubh/Downloads/project_video.mp4\")\n",
    "try:\n",
    "    prop = cv2.cv.CV_CAP_PROP_FRAME_COUNT if imutils.is_cv2() \\\n",
    "    else cv2.CAP_PROP_FRAME_COUNT\n",
    "    total = int(vs.get(prop))\n",
    "    print(\"[INFO] {} total frames in video\".format(total))\n",
    "except:\n",
    "    print(\"[INFO] couldn't determine frames in video\")\n",
    "    total = -1"
   ]
  },
  {
   "cell_type": "code",
   "execution_count": null,
   "metadata": {},
   "outputs": [],
   "source": [
    "while True:\n",
    "    (ret, frame) = vs.read()\n",
    "    if not ret:\n",
    "        break\n",
    "    (H, W) = frame.shape[:2]\n",
    "    \n",
    "    blob = cv2.dnn.blobFromImage(frame, 1/255.0, (416, 416), swapRB=True, crop=False)\n",
    "    net.setInput(blob)\n",
    "    layerOutputs = net.forward(ln)\n",
    "    \n",
    "    rects = []\n",
    "    for output in layerOutputs:\n",
    "        for detection in output:\n",
    "            scores = detection[5:]\n",
    "            classID = np.argmax(scores)\n",
    "            confidence = scores[classID]\n",
    "            \n",
    "            if confidence > confThreshold:\n",
    "                label = LABELS[classID]\n",
    "                \n",
    "                if label != \"car\":\n",
    "                    continue\n",
    "                \n",
    "                box = detection[0:4] * np.array([W, H, W, H])\n",
    "                boxes.append(box.astype(\"int\"))\n",
    "                (centerX, centerY, width, height) = box.astype(\"int\")\n",
    "                cv2.rectangle(frame, (int(centerX-(width/2)), int(centerY-(height/2))), \n",
    "                              (int(centerX+(width/2)), int(centerY+(height/2))), (0, 255, 0), 2)\n",
    "    objects = ct.update(boxes)\n",
    "    \n",
    "    for(objectID, centroid) in objects.items():\n",
    "        text = \"ID {}\".format(objectID)\n",
    "        cv2.putText(frame, text, (centroid[0] - 10, centroid[1] - 10), cv2.FONT_HERSHEY_SIMPLEX, 0.5, (0, 255, 0), 2)\n",
    "        cv2.circle(frame, (centroid[0], centroid[1]), 4, (0, 255, 0), -1)\n",
    "        \n",
    "    cv2.imshow(\"Frame\", frame)\n",
    "    key = cv2.waitKey(1) & 0xFF\n",
    "    \n",
    "    if key == ord(\"q\"):\n",
    "        break\n",
    "    \n",
    "cv2.destroyAllWindows()\n",
    "vs.stop()"
   ]
  },
  {
   "cell_type": "code",
   "execution_count": null,
   "metadata": {},
   "outputs": [],
   "source": []
  }
 ],
 "metadata": {
  "kernelspec": {
   "display_name": "Python 3",
   "language": "python",
   "name": "python3"
  },
  "language_info": {
   "codemirror_mode": {
    "name": "ipython",
    "version": 3
   },
   "file_extension": ".py",
   "mimetype": "text/x-python",
   "name": "python",
   "nbconvert_exporter": "python",
   "pygments_lexer": "ipython3",
   "version": "3.7.6"
  }
 },
 "nbformat": 4,
 "nbformat_minor": 4
}
