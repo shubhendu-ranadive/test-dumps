{
 "cells": [
  {
   "cell_type": "code",
   "execution_count": 16,
   "id": "06762174",
   "metadata": {},
   "outputs": [],
   "source": [
    "import glob\n",
    "import cv2 as cv2\n",
    "import numpy as np\n",
    "import matplotlib.pyplot as plt\n",
    "import random\n",
    "from skimage.feature import hog\n",
    "from sklearn.model_selection import train_test_split\n",
    "\n",
    "from keras.models import Sequential\n",
    "from keras.layers import Dense, Dropout, Activation, Flatten, Add, BatchNormalization, Dropout\n",
    "from keras.layers import Conv2D, MaxPooling2D\n",
    "from keras.utils import np_utils\n",
    "from keras.layers import Activation"
   ]
  },
  {
   "cell_type": "code",
   "execution_count": 17,
   "id": "b9da5d3a",
   "metadata": {},
   "outputs": [
    {
     "name": "stdout",
     "output_type": "stream",
     "text": [
      "Reading of Vehicle Images Done\n",
      "Reading of Non Vehicle Images Done\n",
      "No of Vehicle Images Loaded -8792\n",
      "No of Non-Vehicle Images Loaded -8968\n"
     ]
    }
   ],
   "source": [
    "vehicle_image_arr = glob.glob('/home/shubhendu/Pictures/Vehicle Detection/vehicles/vehicles/*/*.png')\n",
    "\n",
    "# read images and append to list\n",
    "vehicle_images_original=[]\n",
    "for imagePath in vehicle_image_arr:\n",
    "    readImage=cv2.imread(imagePath)\n",
    "    #rgbImage = cv2.cvtColor(readImage, cv2.COLOR_BGR2RGB)\n",
    "    grayImage = cv2.cvtColor(readImage, cv2.COLOR_BGR2GRAY)\n",
    "    vehicle_images_original.append(grayImage)\n",
    "\n",
    "print('Reading of Vehicle Images Done')\n",
    "\n",
    "non_vehicle_image_arr = glob.glob('/home/shubhendu/Pictures/Vehicle Detection/non-vehicles/non-vehicles/*/*.png')\n",
    "\n",
    "\n",
    "non_vehicle_images_original=[]\n",
    "for imagePath in non_vehicle_image_arr:\n",
    "    readImage=cv2.imread(imagePath)\n",
    "    #rgbImage = cv2.cvtColor(readImage, cv2.COLOR_BGR2RGB)\n",
    "    grayImage = cv2.cvtColor(readImage, cv2.COLOR_BGR2GRAY)\n",
    "    non_vehicle_images_original.append(grayImage)\n",
    "\n",
    "print(\"Reading of Non Vehicle Images Done\")\n",
    "\n",
    "print(\"No of Vehicle Images Loaded -\"+ str(len(vehicle_image_arr)))\n",
    "print(\"No of Non-Vehicle Images Loaded -\"+ str(len(non_vehicle_images_original)))"
   ]
  },
  {
   "cell_type": "code",
   "execution_count": 18,
   "id": "c0893120",
   "metadata": {},
   "outputs": [],
   "source": [
    "vehicle_images_array = np.array(vehicle_images_original)\n",
    "non_vehicle_images_array = np.array(non_vehicle_images_original)"
   ]
  },
  {
   "cell_type": "code",
   "execution_count": 19,
   "id": "3279b807",
   "metadata": {},
   "outputs": [
    {
     "name": "stdout",
     "output_type": "stream",
     "text": [
      "(17760, 64, 64)\n",
      "(17760,)\n"
     ]
    }
   ],
   "source": [
    "dataList = np.vstack([vehicle_images_array, non_vehicle_images_array])\n",
    "print(dataList.shape)\n",
    "labelList= np.concatenate([np.ones(len(vehicle_image_arr)), np.ones(len(non_vehicle_images_original))])\n",
    "print(labelList.shape)"
   ]
  },
  {
   "cell_type": "code",
   "execution_count": 20,
   "id": "c1c6abee",
   "metadata": {},
   "outputs": [],
   "source": [
    "X_train, X_test, Y_train, Y_test = train_test_split(dataList, labelList, test_size=0.2, shuffle=True)"
   ]
  },
  {
   "cell_type": "code",
   "execution_count": 21,
   "id": "f17cd16f",
   "metadata": {},
   "outputs": [
    {
     "data": {
      "text/plain": [
       "<matplotlib.image.AxesImage at 0x7f344c31c9e8>"
      ]
     },
     "execution_count": 21,
     "metadata": {},
     "output_type": "execute_result"
    },
    {
     "data": {
      "image/png": "[encoded data removed]",
      "text/plain": [
       "<Figure size 432x288 with 1 Axes>"
      ]
     },
     "metadata": {
      "needs_background": "light"
     },
     "output_type": "display_data"
    }
   ],
   "source": [
    "%matplotlib inline\n",
    "plt.imshow(X_train[0])"
   ]
  },
  {
   "cell_type": "code",
   "execution_count": 22,
   "id": "43ca44e6",
   "metadata": {},
   "outputs": [],
   "source": [
    "X_train = X_train.reshape(X_train.shape[0], 64, 64, 1)\n",
    "X_test = X_test.reshape(X_test.shape[0], 64, 64, 1)"
   ]
  },
  {
   "cell_type": "code",
   "execution_count": 23,
   "id": "3127cc87",
   "metadata": {},
   "outputs": [],
   "source": [
    "X_train = X_train.astype('float32')\n",
    "X_test = X_test.astype('float32')\n",
    "X_train /= 255\n",
    "X_test /= 255\n",
    "y_train = np_utils.to_categorical(Y_train, 2)\n",
    "y_test = np_utils.to_categorical(Y_test, 2)"
   ]
  },
  {
   "cell_type": "code",
   "execution_count": 25,
   "id": "5d31d24c",
   "metadata": {},
   "outputs": [],
   "source": [
    "model = Sequential()\n",
    "\n",
    " \n",
    "model.add(Conv2D(20, (3, 3), activation='relu', input_shape=(64,64,1))) # 62\n",
    "model.add(BatchNormalization())\n",
    "model.add(Dropout(0.1))\n",
    "\n",
    "model.add(Conv2D(26, (3, 3), activation='relu')) # 60\n",
    "model.add(BatchNormalization())\n",
    "model.add(Dropout(0.1))\n",
    "\n",
    "model.add(Conv2D(20, (1, 1), activation='relu')) # 60\n",
    "model.add(MaxPooling2D(pool_size=(2, 2))) # 30\n",
    "\n",
    "model.add(Conv2D(26, (3, 3), activation='relu')) # 28\n",
    "model.add(BatchNormalization())\n",
    "model.add(Dropout(0.1))\n",
    "\n",
    "model.add(Conv2D(30, (3, 3), activation='relu')) # 24\n",
    "model.add(BatchNormalization())\n",
    "model.add(Dropout(0.1))\n",
    "\n",
    "model.add(Conv2D(24, (1, 1), activation='relu')) # 24\n",
    "model.add(MaxPooling2D(pool_size=(2, 2))) # 12\n",
    "\n",
    "#model.add(Convolution2D(26, 1, 1, activation='relu')) # 12\n",
    "\n",
    "model.add(Conv2D(30, (3, 3), activation='relu')) # 10\n",
    "model.add(BatchNormalization())\n",
    "model.add(Dropout(0.1))\n",
    "\n",
    "model.add(Conv2D(40, (3, 3), activation='relu')) # 8\n",
    "model.add(BatchNormalization())\n",
    "model.add(Dropout(0.1))\n",
    "\n",
    "model.add(Conv2D(26, (1, 1), activation='relu')) # 8\n",
    "model.add(MaxPooling2D(pool_size=(2, 2))) # 4\n",
    "\n",
    "model.add(Conv2D(30, (1, 1), activation='relu')) # 4\n",
    "model.add(BatchNormalization())\n",
    "model.add(Dropout(0.1))\n",
    "\n",
    "model.add(Conv2D(2, 1, activation='relu')) #4\n",
    "model.add(Conv2D(2, 4))\n",
    "model.add(Flatten())\n",
    "model.add(Activation('softmax'))"
   ]
  },
  {
   "cell_type": "code",
   "execution_count": 26,
   "id": "2bb3726c",
   "metadata": {},
   "outputs": [
    {
     "name": "stdout",
     "output_type": "stream",
     "text": [
      "Model: \"sequential_3\"\n",
      "_________________________________________________________________\n",
      "Layer (type)                 Output Shape              Param #   \n",
      "=================================================================\n",
      "conv2d_13 (Conv2D)           (None, 62, 62, 20)        200       \n",
      "_________________________________________________________________\n",
      "batch_normalization_8 (Batch (None, 62, 62, 20)        80        \n",
      "_________________________________________________________________\n",
      "dropout_8 (Dropout)          (None, 62, 62, 20)        0         \n",
      "_________________________________________________________________\n",
      "conv2d_14 (Conv2D)           (None, 60, 60, 26)        4706      \n",
      "_________________________________________________________________\n",
      "batch_normalization_9 (Batch (None, 60, 60, 26)        104       \n",
      "_________________________________________________________________\n",
      "dropout_9 (Dropout)          (None, 60, 60, 26)        0         \n",
      "_________________________________________________________________\n",
      "conv2d_15 (Conv2D)           (None, 60, 60, 20)        540       \n",
      "_________________________________________________________________\n",
      "max_pooling2d_4 (MaxPooling2 (None, 30, 30, 20)        0         \n",
      "_________________________________________________________________\n",
      "conv2d_16 (Conv2D)           (None, 28, 28, 26)        4706      \n",
      "_________________________________________________________________\n",
      "batch_normalization_10 (Batc (None, 28, 28, 26)        104       \n",
      "_________________________________________________________________\n",
      "dropout_10 (Dropout)         (None, 28, 28, 26)        0         \n",
      "_________________________________________________________________\n",
      "conv2d_17 (Conv2D)           (None, 26, 26, 30)        7050      \n",
      "_________________________________________________________________\n",
      "batch_normalization_11 (Batc (None, 26, 26, 30)        120       \n",
      "_________________________________________________________________\n",
      "dropout_11 (Dropout)         (None, 26, 26, 30)        0         \n",
      "_________________________________________________________________\n",
      "conv2d_18 (Conv2D)           (None, 26, 26, 24)        744       \n",
      "_________________________________________________________________\n",
      "max_pooling2d_5 (MaxPooling2 (None, 13, 13, 24)        0         \n",
      "_________________________________________________________________\n",
      "conv2d_19 (Conv2D)           (None, 11, 11, 30)        6510      \n",
      "_________________________________________________________________\n",
      "batch_normalization_12 (Batc (None, 11, 11, 30)        120       \n",
      "_________________________________________________________________\n",
      "dropout_12 (Dropout)         (None, 11, 11, 30)        0         \n",
      "_________________________________________________________________\n",
      "conv2d_20 (Conv2D)           (None, 9, 9, 40)          10840     \n",
      "_________________________________________________________________\n",
      "batch_normalization_13 (Batc (None, 9, 9, 40)          160       \n",
      "_________________________________________________________________\n",
      "dropout_13 (Dropout)         (None, 9, 9, 40)          0         \n",
      "_________________________________________________________________\n",
      "conv2d_21 (Conv2D)           (None, 9, 9, 26)          1066      \n",
      "_________________________________________________________________\n",
      "max_pooling2d_6 (MaxPooling2 (None, 4, 4, 26)          0         \n",
      "_________________________________________________________________\n",
      "conv2d_22 (Conv2D)           (None, 4, 4, 30)          810       \n",
      "_________________________________________________________________\n",
      "batch_normalization_14 (Batc (None, 4, 4, 30)          120       \n",
      "_________________________________________________________________\n",
      "dropout_14 (Dropout)         (None, 4, 4, 30)          0         \n",
      "_________________________________________________________________\n",
      "conv2d_23 (Conv2D)           (None, 4, 4, 2)           62        \n",
      "_________________________________________________________________\n",
      "conv2d_24 (Conv2D)           (None, 1, 1, 2)           66        \n",
      "_________________________________________________________________\n",
      "flatten_2 (Flatten)          (None, 2)                 0         \n",
      "_________________________________________________________________\n",
      "activation_2 (Activation)    (None, 2)                 0         \n",
      "=================================================================\n",
      "Total params: 38,108\n",
      "Trainable params: 37,704\n",
      "Non-trainable params: 404\n",
      "_________________________________________________________________\n"
     ]
    }
   ],
   "source": [
    "model.summary()"
   ]
  },
  {
   "cell_type": "code",
   "execution_count": 32,
   "id": "842d18f0",
   "metadata": {},
   "outputs": [],
   "source": [
    "from keras.optimizers import Adam\n",
    "from keras.callbacks import LearningRateScheduler\n",
    "def scheduler(epoch, lr):\n",
    "  return round(0.003 * 1/(1 + 0.319 * epoch), 10)\n",
    "\n",
    "model.compile(loss='sparse_categorical_crossentropy', \n",
    "              optimizer=Adam(lr=0.003), \n",
    "              metrics=['accuracy'])"
   ]
  },
  {
   "cell_type": "code",
   "execution_count": 33,
   "id": "d5b3e3bc",
   "metadata": {},
   "outputs": [
    {
     "name": "stdout",
     "output_type": "stream",
     "text": [
      "Train on 14208 samples, validate on 3552 samples\n",
      "Epoch 1/50\n",
      "\n",
      "Epoch 00001: LearningRateScheduler setting learning rate to 0.003.\n",
      "14208/14208 [==============================] - 30s 2ms/step - loss: 0.0392 - accuracy: 0.9872 - val_loss: 8.9585e-05 - val_accuracy: 1.0000\n",
      "Epoch 2/50\n",
      "\n",
      "Epoch 00002: LearningRateScheduler setting learning rate to 0.0022744503.\n",
      "14208/14208 [==============================] - 19s 1ms/step - loss: 1.2851e-04 - accuracy: 1.0000 - val_loss: 8.9097e-06 - val_accuracy: 1.0000\n",
      "Epoch 3/50\n",
      "\n",
      "Epoch 00003: LearningRateScheduler setting learning rate to 0.0018315018.\n",
      "14208/14208 [==============================] - 19s 1ms/step - loss: 6.6705e-05 - accuracy: 1.0000 - val_loss: 3.2045e-06 - val_accuracy: 1.0000\n",
      "Epoch 4/50\n",
      "\n",
      "Epoch 00004: LearningRateScheduler setting learning rate to 0.0015329586.\n",
      "14208/14208 [==============================] - 18s 1ms/step - loss: 5.3829e-05 - accuracy: 1.0000 - val_loss: 2.2486e-06 - val_accuracy: 1.0000\n",
      "Epoch 5/50\n",
      "\n",
      "Epoch 00005: LearningRateScheduler setting learning rate to 0.0013181019.\n",
      "14208/14208 [==============================] - 19s 1ms/step - loss: 3.9148e-05 - accuracy: 1.0000 - val_loss: 3.2141e-06 - val_accuracy: 1.0000\n",
      "Epoch 6/50\n",
      "\n",
      "Epoch 00006: LearningRateScheduler setting learning rate to 0.0011560694.\n",
      "14208/14208 [==============================] - 18s 1ms/step - loss: 2.9852e-05 - accuracy: 1.0000 - val_loss: 3.3021e-06 - val_accuracy: 1.0000\n",
      "Epoch 7/50\n",
      "\n",
      "Epoch 00007: LearningRateScheduler setting learning rate to 0.0010295127.\n",
      "14208/14208 [==============================] - 18s 1ms/step - loss: 2.6857e-05 - accuracy: 1.0000 - val_loss: 3.6137e-06 - val_accuracy: 1.0000\n",
      "Epoch 8/50\n",
      "\n",
      "Epoch 00008: LearningRateScheduler setting learning rate to 0.0009279307.\n",
      "14208/14208 [==============================] - 18s 1ms/step - loss: 2.2469e-05 - accuracy: 1.0000 - val_loss: 3.6361e-06 - val_accuracy: 1.0000\n",
      "Epoch 9/50\n",
      "\n",
      "Epoch 00009: LearningRateScheduler setting learning rate to 0.0008445946.\n",
      "14208/14208 [==============================] - 18s 1ms/step - loss: 1.9612e-05 - accuracy: 1.0000 - val_loss: 3.3513e-06 - val_accuracy: 1.0000\n",
      "Epoch 10/50\n",
      "\n",
      "Epoch 00010: LearningRateScheduler setting learning rate to 0.0007749935.\n",
      "14208/14208 [==============================] - 19s 1ms/step - loss: 1.6459e-05 - accuracy: 1.0000 - val_loss: 3.1181e-06 - val_accuracy: 1.0000\n",
      "Epoch 11/50\n",
      "\n",
      "Epoch 00011: LearningRateScheduler setting learning rate to 0.0007159905.\n",
      "14208/14208 [==============================] - 19s 1ms/step - loss: 1.4974e-05 - accuracy: 1.0000 - val_loss: 2.9667e-06 - val_accuracy: 1.0000\n",
      "Epoch 12/50\n",
      "\n",
      "Epoch 00012: LearningRateScheduler setting learning rate to 0.000665336.\n",
      "14208/14208 [==============================] - 18s 1ms/step - loss: 1.3949e-05 - accuracy: 1.0000 - val_loss: 2.7600e-06 - val_accuracy: 1.0000\n",
      "Epoch 13/50\n",
      "\n",
      "Epoch 00013: LearningRateScheduler setting learning rate to 0.0006213753.\n",
      "14208/14208 [==============================] - 18s 1ms/step - loss: 1.2357e-05 - accuracy: 1.0000 - val_loss: 2.5540e-06 - val_accuracy: 1.0000\n",
      "Epoch 14/50\n",
      "\n",
      "Epoch 00014: LearningRateScheduler setting learning rate to 0.0005828638.\n",
      "14208/14208 [==============================] - 18s 1ms/step - loss: 1.1261e-05 - accuracy: 1.0000 - val_loss: 2.4157e-06 - val_accuracy: 1.0000\n",
      "Epoch 15/50\n",
      "\n",
      "Epoch 00015: LearningRateScheduler setting learning rate to 0.0005488474.\n",
      "14208/14208 [==============================] - 18s 1ms/step - loss: 1.0871e-05 - accuracy: 1.0000 - val_loss: 2.2796e-06 - val_accuracy: 1.0000\n",
      "Epoch 16/50\n",
      "\n",
      "Epoch 00016: LearningRateScheduler setting learning rate to 0.0005185825.\n",
      "14208/14208 [==============================] - 18s 1ms/step - loss: 9.8859e-06 - accuracy: 1.0000 - val_loss: 2.1079e-06 - val_accuracy: 1.0000\n",
      "Epoch 17/50\n",
      "\n",
      "Epoch 00017: LearningRateScheduler setting learning rate to 0.000491481.\n",
      "14208/14208 [==============================] - 18s 1ms/step - loss: 9.2935e-06 - accuracy: 1.0000 - val_loss: 2.0173e-06 - val_accuracy: 1.0000\n",
      "Epoch 18/50\n",
      "\n",
      "Epoch 00018: LearningRateScheduler setting learning rate to 0.0004670715.\n",
      "14208/14208 [==============================] - 18s 1ms/step - loss: 9.3887e-06 - accuracy: 1.0000 - val_loss: 1.9088e-06 - val_accuracy: 1.0000\n",
      "Epoch 19/50\n",
      "\n",
      "Epoch 00019: LearningRateScheduler setting learning rate to 0.0004449718.\n",
      "14208/14208 [==============================] - 18s 1ms/step - loss: 8.5086e-06 - accuracy: 1.0000 - val_loss: 1.8238e-06 - val_accuracy: 1.0000\n",
      "Epoch 20/50\n",
      "\n",
      "Epoch 00020: LearningRateScheduler setting learning rate to 0.000424869.\n",
      "14208/14208 [==============================] - 18s 1ms/step - loss: 8.0444e-06 - accuracy: 1.0000 - val_loss: 1.7602e-06 - val_accuracy: 1.0000\n",
      "Epoch 21/50\n",
      "\n",
      "Epoch 00021: LearningRateScheduler setting learning rate to 0.0004065041.\n",
      "14208/14208 [==============================] - 18s 1ms/step - loss: 7.5223e-06 - accuracy: 1.0000 - val_loss: 1.6773e-06 - val_accuracy: 1.0000\n",
      "Epoch 22/50\n",
      "\n",
      "Epoch 00022: LearningRateScheduler setting learning rate to 0.000389661.\n",
      "14208/14208 [==============================] - 18s 1ms/step - loss: 6.7558e-06 - accuracy: 1.0000 - val_loss: 1.5883e-06 - val_accuracy: 1.0000\n",
      "Epoch 23/50\n",
      "\n",
      "Epoch 00023: LearningRateScheduler setting learning rate to 0.0003741581.\n",
      "14208/14208 [==============================] - 18s 1ms/step - loss: 5.9771e-06 - accuracy: 1.0000 - val_loss: 1.5135e-06 - val_accuracy: 1.0000\n",
      "Epoch 24/50\n",
      "\n",
      "Epoch 00024: LearningRateScheduler setting learning rate to 0.0003598417.\n",
      "14208/14208 [==============================] - 18s 1ms/step - loss: 5.8795e-06 - accuracy: 1.0000 - val_loss: 1.4814e-06 - val_accuracy: 1.0000\n",
      "Epoch 25/50\n",
      "\n",
      "Epoch 00025: LearningRateScheduler setting learning rate to 0.0003465804.\n",
      "14208/14208 [==============================] - 18s 1ms/step - loss: 5.3182e-06 - accuracy: 1.0000 - val_loss: 1.4102e-06 - val_accuracy: 1.0000\n",
      "Epoch 26/50\n",
      "\n",
      "Epoch 00026: LearningRateScheduler setting learning rate to 0.0003342618.\n",
      "14208/14208 [==============================] - 18s 1ms/step - loss: 5.2960e-06 - accuracy: 1.0000 - val_loss: 1.3674e-06 - val_accuracy: 1.0000\n",
      "Epoch 27/50\n",
      "\n",
      "Epoch 00027: LearningRateScheduler setting learning rate to 0.0003227889.\n",
      "14208/14208 [==============================] - 18s 1ms/step - loss: 4.9958e-06 - accuracy: 1.0000 - val_loss: 1.3208e-06 - val_accuracy: 1.0000\n",
      "Epoch 28/50\n",
      "\n",
      "Epoch 00028: LearningRateScheduler setting learning rate to 0.0003120774.\n",
      "14208/14208 [==============================] - 18s 1ms/step - loss: 4.4565e-06 - accuracy: 1.0000 - val_loss: 1.2572e-06 - val_accuracy: 1.0000\n",
      "Epoch 29/50\n",
      "\n",
      "Epoch 00029: LearningRateScheduler setting learning rate to 0.000302054.\n",
      "14208/14208 [==============================] - 18s 1ms/step - loss: 4.5922e-06 - accuracy: 1.0000 - val_loss: 1.2055e-06 - val_accuracy: 1.0000\n",
      "Epoch 30/50\n",
      "\n",
      "Epoch 00030: LearningRateScheduler setting learning rate to 0.0002926544.\n",
      "14208/14208 [==============================] - 18s 1ms/step - loss: 4.0211e-06 - accuracy: 1.0000 - val_loss: 1.1863e-06 - val_accuracy: 1.0000\n",
      "Epoch 31/50\n",
      "\n",
      "Epoch 00031: LearningRateScheduler setting learning rate to 0.0002838221.\n",
      "14208/14208 [==============================] - 18s 1ms/step - loss: 4.3978e-06 - accuracy: 1.0000 - val_loss: 1.1539e-06 - val_accuracy: 1.0000\n",
      "Epoch 32/50\n",
      "\n",
      "Epoch 00032: LearningRateScheduler setting learning rate to 0.0002755074.\n",
      "14208/14208 [==============================] - 18s 1ms/step - loss: 4.1145e-06 - accuracy: 1.0000 - val_loss: 1.0920e-06 - val_accuracy: 1.0000\n",
      "Epoch 33/50\n",
      "\n",
      "Epoch 00033: LearningRateScheduler setting learning rate to 0.000267666.\n",
      "14208/14208 [==============================] - 18s 1ms/step - loss: 3.8473e-06 - accuracy: 1.0000 - val_loss: 1.0412e-06 - val_accuracy: 1.0000\n",
      "Epoch 34/50\n",
      "\n",
      "Epoch 00034: LearningRateScheduler setting learning rate to 0.0002602585.\n",
      "14208/14208 [==============================] - 18s 1ms/step - loss: 3.6557e-06 - accuracy: 1.0000 - val_loss: 1.0123e-06 - val_accuracy: 1.0000\n",
      "Epoch 35/50\n",
      "\n",
      "Epoch 00035: LearningRateScheduler setting learning rate to 0.00025325.\n",
      "14208/14208 [==============================] - 18s 1ms/step - loss: 3.4435e-06 - accuracy: 1.0000 - val_loss: 9.8267e-07 - val_accuracy: 1.0000\n",
      "Epoch 36/50\n",
      "\n",
      "Epoch 00036: LearningRateScheduler setting learning rate to 0.0002466091.\n"
     ]
    },
    {
     "name": "stdout",
     "output_type": "stream",
     "text": [
      "14208/14208 [==============================] - 18s 1ms/step - loss: 4.0828e-06 - accuracy: 1.0000 - val_loss: 9.4542e-07 - val_accuracy: 1.0000\n",
      "Epoch 37/50\n",
      "\n",
      "Epoch 00037: LearningRateScheduler setting learning rate to 0.0002403076.\n",
      "14208/14208 [==============================] - 18s 1ms/step - loss: 3.4069e-06 - accuracy: 1.0000 - val_loss: 9.1810e-07 - val_accuracy: 1.0000\n",
      "Epoch 38/50\n",
      "\n",
      "Epoch 00038: LearningRateScheduler setting learning rate to 0.0002343201.\n",
      "14208/14208 [==============================] - 18s 1ms/step - loss: 3.3310e-06 - accuracy: 1.0000 - val_loss: 8.9152e-07 - val_accuracy: 1.0000\n",
      "Epoch 39/50\n",
      "\n",
      "Epoch 00039: LearningRateScheduler setting learning rate to 0.0002286237.\n",
      "14208/14208 [==============================] - 18s 1ms/step - loss: 3.1666e-06 - accuracy: 1.0000 - val_loss: 8.6111e-07 - val_accuracy: 1.0000\n",
      "Epoch 40/50\n",
      "\n",
      "Epoch 00040: LearningRateScheduler setting learning rate to 0.0002231977.\n",
      "14208/14208 [==============================] - 18s 1ms/step - loss: 2.9360e-06 - accuracy: 1.0000 - val_loss: 8.3107e-07 - val_accuracy: 1.0000\n",
      "Epoch 41/50\n",
      "\n",
      "Epoch 00041: LearningRateScheduler setting learning rate to 0.0002180233.\n",
      "14208/14208 [==============================] - 18s 1ms/step - loss: 3.1192e-06 - accuracy: 1.0000 - val_loss: 8.1231e-07 - val_accuracy: 1.0000\n",
      "Epoch 42/50\n",
      "\n",
      "Epoch 00042: LearningRateScheduler setting learning rate to 0.0002130833.\n",
      "14208/14208 [==============================] - 18s 1ms/step - loss: 2.9139e-06 - accuracy: 1.0000 - val_loss: 7.8345e-07 - val_accuracy: 1.0000\n",
      "Epoch 43/50\n",
      "\n",
      "Epoch 00043: LearningRateScheduler setting learning rate to 0.0002083623.\n",
      "14208/14208 [==============================] - 18s 1ms/step - loss: 2.5392e-06 - accuracy: 1.0000 - val_loss: 7.5264e-07 - val_accuracy: 1.0000\n",
      "Epoch 44/50\n",
      "\n",
      "Epoch 00044: LearningRateScheduler setting learning rate to 0.0002038459.\n",
      "14208/14208 [==============================] - 18s 1ms/step - loss: 2.7356e-06 - accuracy: 1.0000 - val_loss: 7.3539e-07 - val_accuracy: 1.0000\n",
      "Epoch 45/50\n",
      "\n",
      "Epoch 00045: LearningRateScheduler setting learning rate to 0.0001995211.\n",
      "14208/14208 [==============================] - 18s 1ms/step - loss: 2.2580e-06 - accuracy: 1.0000 - val_loss: 7.1183e-07 - val_accuracy: 1.0000\n",
      "Epoch 46/50\n",
      "\n",
      "Epoch 00046: LearningRateScheduler setting learning rate to 0.0001953761.\n",
      "14208/14208 [==============================] - 18s 1ms/step - loss: 2.1826e-06 - accuracy: 1.0000 - val_loss: 6.8394e-07 - val_accuracy: 1.0000\n",
      "Epoch 47/50\n",
      "\n",
      "Epoch 00047: LearningRateScheduler setting learning rate to 0.0001913998.\n",
      "14208/14208 [==============================] - 18s 1ms/step - loss: 2.1882e-06 - accuracy: 1.0000 - val_loss: 6.4562e-07 - val_accuracy: 1.0000\n",
      "Epoch 48/50\n",
      "\n",
      "Epoch 00048: LearningRateScheduler setting learning rate to 0.0001875821.\n",
      "14208/14208 [==============================] - 18s 1ms/step - loss: 2.0658e-06 - accuracy: 1.0000 - val_loss: 6.3800e-07 - val_accuracy: 1.0000\n",
      "Epoch 49/50\n",
      "\n",
      "Epoch 00049: LearningRateScheduler setting learning rate to 0.0001839137.\n",
      "14208/14208 [==============================] - 18s 1ms/step - loss: 2.1282e-06 - accuracy: 1.0000 - val_loss: 6.1269e-07 - val_accuracy: 1.0000\n",
      "Epoch 50/50\n",
      "\n",
      "Epoch 00050: LearningRateScheduler setting learning rate to 0.000180386.\n",
      "14208/14208 [==============================] - 18s 1ms/step - loss: 1.9456e-06 - accuracy: 1.0000 - val_loss: 5.9886e-07 - val_accuracy: 1.0000\n"
     ]
    },
    {
     "data": {
      "text/plain": [
       "<keras.callbacks.callbacks.History at 0x7f341c31edd8>"
      ]
     },
     "execution_count": 33,
     "metadata": {},
     "output_type": "execute_result"
    }
   ],
   "source": [
    "model.fit(X_train, Y_train, batch_size=128, epochs=50, verbose=1, validation_data=(X_test, Y_test), callbacks=[LearningRateScheduler(scheduler, verbose=1)])"
   ]
  },
  {
   "cell_type": "code",
   "execution_count": 34,
   "id": "4a9df1cf",
   "metadata": {},
   "outputs": [
    {
     "name": "stdout",
     "output_type": "stream",
     "text": [
      "[5.988645613842481e-07, 1.0]\n"
     ]
    }
   ],
   "source": [
    "score = model.evaluate(X_test, Y_test, verbose=0)\n",
    "print(score)"
   ]
  },
  {
   "cell_type": "code",
   "execution_count": 35,
   "id": "b28a79b2",
   "metadata": {},
   "outputs": [],
   "source": [
    "model.save(\"my_h5_model.h5\")"
   ]
  },
  {
   "cell_type": "code",
   "execution_count": null,
   "id": "21496354",
   "metadata": {},
   "outputs": [],
   "source": []
  }
 ],
 "metadata": {
  "kernelspec": {
   "display_name": "Python 3",
   "language": "python",
   "name": "python3"
  },
  "language_info": {
   "codemirror_mode": {
    "name": "ipython",
    "version": 3
   },
   "file_extension": ".py",
   "mimetype": "text/x-python",
   "name": "python",
   "nbconvert_exporter": "python",
   "pygments_lexer": "ipython3",
   "version": "3.6.9"
  }
 },
 "nbformat": 4,
 "nbformat_minor": 5
}
